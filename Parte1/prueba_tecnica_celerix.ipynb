{
 "cells": [
  {
   "cell_type": "markdown",
   "metadata": {},
   "source": [
    "# Parte 1: SQL\n"
   ]
  },
  {
   "cell_type": "markdown",
   "metadata": {},
   "source": [
    "### Se montan las tablas en una base de datos llamado base_datos.bd"
   ]
  },
  {
   "cell_type": "code",
   "execution_count": 1,
   "metadata": {},
   "outputs": [],
   "source": [
    "import sqlite3\n",
    "import os\n",
    "import pandas as pd\n",
    "\n",
    "if os.path.exists('base_datos.db'):\n",
    "    os.remove('base_datos.db')\n",
    "\n",
    "try:\n",
    "    conn = sqlite3.connect('base_datos_parte1.db')\n",
    "    cursor = conn.cursor()\n",
    "\n",
    "    with open('DATOS-init.sql', 'r', encoding='utf-8') as file:\n",
    "        sql_script = file.read()\n",
    "\n",
    "    cursor.executescript(sql_script)\n",
    "    conn.commit()\n",
    "except Exception as e:\n",
    "    print(f\"Error: {e}\")\n",
    "    conn.close()\n",
    "\n",
    "finally:\n",
    "    if conn:\n",
    "        conn.close()"
   ]
  },
  {
   "cell_type": "markdown",
   "metadata": {},
   "source": [
    "### 1. Inserte un nuevo empleado en la tabla \"empleados\" con los siguientes datos: ID 6, nombre \"Elena\", apellido \"López\", fecha de contratación \"2023-05-01\", salario 33000.00, departamento 3."
   ]
  },
  {
   "cell_type": "code",
   "execution_count": 2,
   "metadata": {},
   "outputs": [],
   "source": [
    "\n",
    "try:\n",
    "    conn = sqlite3.connect('base_datos_parte1.db')\n",
    "    cursor = conn.cursor()\n",
    "\n",
    "    with open('Querys\\Punto1.sql', 'r', encoding='utf-8') as file:\n",
    "        sql_script = file.read()\n",
    "\n",
    "    cursor.executescript(sql_script)\n",
    "    conn.commit()\n",
    "except Exception as e:\n",
    "    print(f\"Error: {e}\")\n",
    "    conn.close()\n",
    "\n",
    "finally:\n",
    "    if conn:\n",
    "        conn.close()"
   ]
  },
  {
   "cell_type": "markdown",
   "metadata": {},
   "source": [
    "### 2. Actualice el salario del empleado con ID 2 a 37000.00."
   ]
  },
  {
   "cell_type": "code",
   "execution_count": 3,
   "metadata": {},
   "outputs": [],
   "source": [
    "try:\n",
    "    conn = sqlite3.connect('base_datos_parte1.db')\n",
    "    cursor = conn.cursor()\n",
    "\n",
    "    with open('Querys\\Punto2.sql', 'r', encoding='utf-8') as file:\n",
    "        sql_script = file.read()\n",
    "\n",
    "    cursor.executescript(sql_script)\n",
    "    conn.commit()\n",
    "except Exception as e:\n",
    "    print(f\"Error: {e}\")\n",
    "    conn.close()\n",
    "\n",
    "finally:\n",
    "    if conn:\n",
    "        conn.close()"
   ]
  },
  {
   "cell_type": "markdown",
   "metadata": {},
   "source": [
    "### 3. Implemente un trigger que actualice automáticamente el stock de un producto cuando se realiza un nuevo pedido."
   ]
  },
  {
   "cell_type": "code",
   "execution_count": 4,
   "metadata": {},
   "outputs": [],
   "source": [
    "try:\n",
    "    conn = sqlite3.connect('base_datos_parte1.db')\n",
    "    cursor = conn.cursor()\n",
    "\n",
    "    with open('Querys\\Punto3.sql', 'r', encoding='utf-8') as file:\n",
    "        sql_script = file.read()\n",
    "\n",
    "    cursor.executescript(sql_script)\n",
    "    conn.commit()\n",
    "except Exception as e:\n",
    "    print(f\"Error: {e}\")\n",
    "    conn.close()\n",
    "\n",
    "finally:\n",
    "    if conn:\n",
    "        conn.close()"
   ]
  },
  {
   "cell_type": "markdown",
   "metadata": {},
   "source": [
    "### 4. Haz una consulta que muestre el nombre del producto, stock, la cantidad de veces que ha sido pedido, la cantidad de veces que ha sido vendido, la fecha del último pedido para cada producto y el total de ingresos generados por ese producto. Agrega un filtro que me muestre solo loo productos que han tenido mas de un pedido\n"
   ]
  },
  {
   "cell_type": "code",
   "execution_count": 5,
   "metadata": {},
   "outputs": [
    {
     "name": "stdout",
     "output_type": "stream",
     "text": [
      "  nombre_producto  stock  veces_pedido  unidades_vendidas fecha_ultimo_pedido  \\\n",
      "0          Laptop     50             2                  3          2023-04-05   \n",
      "1      Smartphone    100             2                  2          2023-04-05   \n",
      "2         Teclado    200             2                  3          2023-04-05   \n",
      "\n",
      "   ingresos_totales  \n",
      "0              3600  \n",
      "1              1600  \n",
      "2               150  \n"
     ]
    }
   ],
   "source": [
    "try:\n",
    "    conn = sqlite3.connect('base_datos_parte1.db')\n",
    "    cursor = conn.cursor()\n",
    "\n",
    "    with open('Querys\\Punto4.sql', 'r', encoding='utf-8') as file:\n",
    "        sql_script = file.read()\n",
    "\n",
    "    cursor.executescript(sql_script)\n",
    "    conn.commit()\n",
    "    df = pd.read_sql_query(sql_script, conn)\n",
    "    print(df)\n",
    "\n",
    "except Exception as e:\n",
    "    print(f\"Error: {e}\")\n",
    "    conn.close()\n",
    "\n",
    "finally:\n",
    "    if conn:\n",
    "        conn.close()"
   ]
  },
  {
   "cell_type": "markdown",
   "metadata": {},
   "source": [
    "### 5. Diseñe los índices apropiados para mejorar el rendimiento de consultas frecuentes en la tabla \"pedidos\"."
   ]
  },
  {
   "cell_type": "code",
   "execution_count": 6,
   "metadata": {},
   "outputs": [],
   "source": [
    "try:\n",
    "    conn = sqlite3.connect('base_datos_parte1.db')\n",
    "    cursor = conn.cursor()\n",
    "\n",
    "    with open('Querys\\Punto5.sql', 'r', encoding='utf-8') as file:\n",
    "        sql_script = file.read()\n",
    "\n",
    "    cursor.executescript(sql_script)\n",
    "    conn.commit()\n",
    "except Exception as e:\n",
    "    print(f\"Error: {e}\")\n",
    "    conn.close()\n",
    "\n",
    "finally:\n",
    "    if conn:\n",
    "        conn.close()"
   ]
  },
  {
   "cell_type": "markdown",
   "metadata": {},
   "source": [
    "### 6. Escriba una consulta que utilice una ventana deslizante (window function) para calcular el salario acumulado por departamento."
   ]
  },
  {
   "cell_type": "code",
   "execution_count": 7,
   "metadata": {},
   "outputs": [
    {
     "name": "stdout",
     "output_type": "stream",
     "text": [
      "  nombre_departamento  max(Salario_acumulado)\n",
      "0           Marketing                   69000\n",
      "1    Recursos Humanos                   73000\n",
      "2              Ventas                   58000\n"
     ]
    }
   ],
   "source": [
    "try:\n",
    "    conn = sqlite3.connect('base_datos_parte1.db')\n",
    "    cursor = conn.cursor()\n",
    "\n",
    "    with open('Querys\\Punto6.sql', 'r', encoding='utf-8') as file:\n",
    "        sql_script = file.read()\n",
    "\n",
    "    cursor.executescript(sql_script)\n",
    "    conn.commit()\n",
    "    df = pd.read_sql_query(sql_script, conn)\n",
    "    print(df)\n",
    "    \n",
    "except Exception as e:\n",
    "    print(f\"Error: {e}\")\n",
    "    conn.close()\n",
    "\n",
    "finally:\n",
    "    if conn:\n",
    "        conn.close()"
   ]
  }
 ],
 "metadata": {
  "kernelspec": {
   "display_name": "Python 3",
   "language": "python",
   "name": "python3"
  },
  "language_info": {
   "codemirror_mode": {
    "name": "ipython",
    "version": 3
   },
   "file_extension": ".py",
   "mimetype": "text/x-python",
   "name": "python",
   "nbconvert_exporter": "python",
   "pygments_lexer": "ipython3",
   "version": "3.10.11"
  }
 },
 "nbformat": 4,
 "nbformat_minor": 2
}
